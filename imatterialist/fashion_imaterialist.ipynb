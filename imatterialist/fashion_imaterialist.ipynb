{
  "nbformat": 4,
  "nbformat_minor": 0,
  "metadata": {
    "colab": {
      "name": "fashion_imaterialist.ipynb",
      "provenance": [],
      "collapsed_sections": [],
      "toc_visible": true
    },
    "kernelspec": {
      "name": "python3",
      "display_name": "Python 3"
    },
    "accelerator": "GPU"
  },
  "cells": [
    {
      "cell_type": "code",
      "metadata": {
        "id": "laWy0kq4qCpf",
        "colab_type": "code",
        "colab": {}
      },
      "source": [
        "!mkdir kaggle"
      ],
      "execution_count": 1,
      "outputs": []
    },
    {
      "cell_type": "code",
      "metadata": {
        "id": "5rov-6s7tTpb",
        "colab_type": "code",
        "colab": {}
      },
      "source": [
        "!mkdir /root/.kaggle"
      ],
      "execution_count": 2,
      "outputs": []
    },
    {
      "cell_type": "code",
      "metadata": {
        "id": "9y60-fnJmvsL",
        "colab_type": "code",
        "colab": {}
      },
      "source": [
        "!touch kaggle.json && echo '{\"username\":\"mahdisharifloo\",\"key\":\"20d7b52a51f939e1c7e185a7317eda17\"}' > /root/.kaggle/kaggle.json\n",
        "!chmod 600 /root/.kaggle/kaggle.json\n"
      ],
      "execution_count": 3,
      "outputs": []
    },
    {
      "cell_type": "code",
      "metadata": {
        "id": "Kcn6YVvOogtO",
        "colab_type": "code",
        "colab": {
          "base_uri": "https://localhost:8080/",
          "height": 1000
        },
        "outputId": "61efa1a1-c1b6-48f7-8752-bff8d1a4fe08"
      },
      "source": [
        "!cd kaggle && kaggle competitions download  -c imaterialist-fashion-2019-FGVC6 --force"
      ],
      "execution_count": 4,
      "outputs": [
        {
          "output_type": "stream",
          "text": [
            "Warning: Looks like you're using an outdated API Version, please consider updating (server 1.5.6 / client 1.5.4)\n",
            "Downloading 00d5da56c02d426c4e4bf802b1888471.jpg to /content/kaggle\n",
            "  0% 0.00/465k [00:00<?, ?B/s]\n",
            "100% 465k/465k [00:00<00:00, 64.3MB/s]\n",
            "Downloading 0094940c58c343b742f48ae26eb5e9fa.jpg to /content/kaggle\n",
            "  0% 0.00/114k [00:00<?, ?B/s]\n",
            "100% 114k/114k [00:00<00:00, 38.0MB/s]\n",
            "Downloading 0099bc6cd3b8c47c2d21a2877b1fa533.jpg.zip to /content/kaggle\n",
            "  0% 0.00/1.11M [00:00<?, ?B/s]\n",
            "100% 1.11M/1.11M [00:00<00:00, 75.3MB/s]\n",
            "Downloading 00d6e5891b7507fccbd49f2c2756b114.jpg to /content/kaggle\n",
            "  0% 0.00/74.6k [00:00<?, ?B/s]\n",
            "100% 74.6k/74.6k [00:00<00:00, 78.2MB/s]\n",
            "Downloading 0046f98599f05fd7233973e430d6d04d.jpg.zip to /content/kaggle\n",
            "  0% 0.00/1.37M [00:00<?, ?B/s]\n",
            "100% 1.37M/1.37M [00:00<00:00, 92.9MB/s]\n",
            "Downloading 0146a53e12d690914995248fb6872121.jpg to /content/kaggle\n",
            "  0% 0.00/75.7k [00:00<?, ?B/s]\n",
            "100% 75.7k/75.7k [00:00<00:00, 78.2MB/s]\n",
            "Downloading 003d41dd20f271d27219fe7ee6de727d.jpg to /content/kaggle\n",
            "  0% 0.00/125k [00:00<?, ?B/s]\n",
            "100% 125k/125k [00:00<00:00, 126MB/s]\n",
            "Downloading 00a8764cff12b2e849c850f4be5608bc.jpg to /content/kaggle\n",
            "  0% 0.00/424k [00:00<?, ?B/s]\n",
            "100% 424k/424k [00:00<00:00, 86.9MB/s]\n",
            "Downloading 005b37fce3c0f641d327d95dd832f51b.jpg.zip to /content/kaggle\n",
            "  0% 0.00/1.98M [00:00<?, ?B/s]\n",
            "100% 1.98M/1.98M [00:00<00:00, 65.1MB/s]\n",
            "Downloading 00e45dd233e31906f538ba17dd45bf29.jpg to /content/kaggle\n",
            "  0% 0.00/253k [00:00<?, ?B/s]\n",
            "100% 253k/253k [00:00<00:00, 84.2MB/s]\n",
            "Downloading 004e9e21cd1aca568a8ffc77a54638ce.jpg to /content/kaggle\n",
            "  0% 0.00/153k [00:00<?, ?B/s]\n",
            "100% 153k/153k [00:00<00:00, 51.2MB/s]\n",
            "Downloading 00a325fd4dc22079095ab46330abf7be.jpg to /content/kaggle\n",
            "  0% 0.00/726k [00:00<?, ?B/s]\n",
            "100% 726k/726k [00:00<00:00, 47.5MB/s]\n",
            "Downloading 014c44b97f844dffda594b9e00a4b3fd.jpg to /content/kaggle\n",
            "  0% 0.00/700k [00:00<?, ?B/s]\n",
            "100% 700k/700k [00:00<00:00, 46.1MB/s]\n",
            "Downloading 00f1db534538841931f15f2bb5cec76c.jpg to /content/kaggle\n",
            "  0% 0.00/85.4k [00:00<?, ?B/s]\n",
            "100% 85.4k/85.4k [00:00<00:00, 90.1MB/s]\n",
            "Downloading 00a1940434d687a785be0acf2b0fbff3.jpg to /content/kaggle\n",
            "  0% 0.00/155k [00:00<?, ?B/s]\n",
            "100% 155k/155k [00:00<00:00, 51.1MB/s]\n",
            "Downloading 011ccdc0d82e359420e5b578740d7971.jpg to /content/kaggle\n",
            "  0% 0.00/588k [00:00<?, ?B/s]\n",
            "100% 588k/588k [00:00<00:00, 83.0MB/s]\n",
            "Downloading 010cf2ab96d1d730e15c76720af0e1a6.jpg.zip to /content/kaggle\n",
            "  0% 0.00/1.04M [00:00<?, ?B/s]\n",
            "100% 1.04M/1.04M [00:00<00:00, 70.2MB/s]\n",
            "Downloading 014eadcd4cf28a669232d4b6470e4e01.jpg to /content/kaggle\n",
            "  0% 0.00/157k [00:00<?, ?B/s]\n",
            "100% 157k/157k [00:00<00:00, 50.4MB/s]\n",
            "Downloading 009b107156c1ee41b03c5b35a82e7232.jpg.zip to /content/kaggle\n",
            "  0% 0.00/1.17M [00:00<?, ?B/s]\n",
            "100% 1.17M/1.17M [00:00<00:00, 78.8MB/s]\n",
            "Downloading 00faa1032cc0809974a8d2dd7b018497.jpg to /content/kaggle\n",
            "  0% 0.00/247k [00:00<?, ?B/s]\n",
            "100% 247k/247k [00:00<00:00, 82.2MB/s]\n",
            "Downloading 000e973c99dc090afd7898c93daf0dbc.jpg to /content/kaggle\n",
            "  0% 0.00/799k [00:00<?, ?B/s]\n",
            "100% 799k/799k [00:00<00:00, 52.6MB/s]\n",
            "Downloading 0002ec21ddb8477e98b2cbb87ea2e269.jpg to /content/kaggle\n",
            "  0% 0.00/0.98M [00:00<?, ?B/s]\n",
            "100% 0.98M/0.98M [00:00<00:00, 66.8MB/s]\n",
            "Downloading 0006ea84499fd9a06fefbdf47a5eb4c0.jpg to /content/kaggle\n",
            "  0% 0.00/153k [00:00<?, ?B/s]\n",
            "100% 153k/153k [00:00<00:00, 49.6MB/s]\n",
            "Downloading 000c9b4926cd78edd4c19cbc6beba111.jpg to /content/kaggle\n",
            "  0% 0.00/262k [00:00<?, ?B/s]\n",
            "100% 262k/262k [00:00<00:00, 86.9MB/s]\n",
            "Downloading 0010ef2da53cd76ee26122a65f6e76ee.jpg to /content/kaggle\n",
            "  0% 0.00/737k [00:00<?, ?B/s]\n",
            "100% 737k/737k [00:00<00:00, 48.2MB/s]\n",
            "Downloading 0002f5a0ebc162ecfb73e2c91e3b8f62.jpg to /content/kaggle\n",
            "  0% 0.00/38.1k [00:00<?, ?B/s]\n",
            "100% 38.1k/38.1k [00:00<00:00, 39.6MB/s]\n",
            "Downloading 000e147149bf33c584afaa953bc198ed.jpg to /content/kaggle\n",
            "  0% 0.00/139k [00:00<?, ?B/s]\n",
            "100% 139k/139k [00:00<00:00, 43.5MB/s]\n",
            "Downloading 000aac3870ea7c59ca0333ffa5327323.jpg.zip to /content/kaggle\n",
            "  0% 0.00/2.42M [00:00<?, ?B/s]\n",
            "100% 2.42M/2.42M [00:00<00:00, 79.3MB/s]\n",
            "Downloading 0004467156e47b0eb6de4aa6479cbd15.jpg to /content/kaggle\n",
            "  0% 0.00/81.1k [00:00<?, ?B/s]\n",
            "100% 81.1k/81.1k [00:00<00:00, 84.7MB/s]\n",
            "Downloading 000775b6b5e27b011dc8bba2d7b85211.jpg to /content/kaggle\n",
            "  0% 0.00/276k [00:00<?, ?B/s]\n",
            "100% 276k/276k [00:00<00:00, 88.9MB/s]\n",
            "Downloading 000cd2e13d1bdd28f480304d7bb9e1ca.jpg to /content/kaggle\n",
            "  0% 0.00/527k [00:00<?, ?B/s]\n",
            "100% 527k/527k [00:00<00:00, 73.1MB/s]\n",
            "Downloading 0000fe7c9191fba733c8a69cfaf962b7.jpg to /content/kaggle\n",
            "  0% 0.00/351k [00:00<?, ?B/s]\n",
            "100% 351k/351k [00:00<00:00, 115MB/s]\n",
            "Downloading 000c5bb8ca785bce8d00e3a6c7802a8c.jpg to /content/kaggle\n",
            "  0% 0.00/75.2k [00:00<?, ?B/s]\n",
            "100% 75.2k/75.2k [00:00<00:00, 78.1MB/s]\n",
            "Downloading 00000663ed1ff0c4e0132b9b9ac53f6e.jpg to /content/kaggle\n",
            "  0% 0.00/754k [00:00<?, ?B/s]\n",
            "100% 754k/754k [00:00<00:00, 48.6MB/s]\n",
            "Downloading 000b3a87508b0fa185fbd53ecbe2e4c6.jpg to /content/kaggle\n",
            "  0% 0.00/143k [00:00<?, ?B/s]\n",
            "100% 143k/143k [00:00<00:00, 136MB/s]\n",
            "Downloading 000b3ec2c6eaffb491a5abb72c2e3e26.jpg to /content/kaggle\n",
            "  0% 0.00/874k [00:00<?, ?B/s]\n",
            "100% 874k/874k [00:00<00:00, 58.5MB/s]\n",
            "Downloading 000e18920575a2e59b3a0c38e6546d29.jpg to /content/kaggle\n",
            "  0% 0.00/58.8k [00:00<?, ?B/s]\n",
            "100% 58.8k/58.8k [00:00<00:00, 51.7MB/s]\n",
            "Downloading 001039acb67251508b1b32fd37a49f43.jpg to /content/kaggle\n",
            "  0% 0.00/318k [00:00<?, ?B/s]\n",
            "100% 318k/318k [00:00<00:00, 45.3MB/s]\n",
            "Downloading 00048c3a2fb9c29340473c4cfc06424a.jpg to /content/kaggle\n",
            "  0% 0.00/117k [00:00<?, ?B/s]\n",
            "100% 117k/117k [00:00<00:00, 101MB/s]\n",
            "Downloading 00102686c01fa625aba3b2478f48f415.jpg to /content/kaggle\n",
            "  0% 0.00/524k [00:00<?, ?B/s]\n",
            "100% 524k/524k [00:00<00:00, 72.4MB/s]\n",
            "Downloading train.csv.zip to /content/kaggle\n",
            " 98% 533M/545M [00:20<00:00, 26.4MB/s]\n",
            "100% 545M/545M [00:20<00:00, 27.9MB/s]\n",
            "Downloading label_descriptions.json to /content/kaggle\n",
            "  0% 0.00/15.7k [00:00<?, ?B/s]\n",
            "100% 15.7k/15.7k [00:00<00:00, 16.6MB/s]\n",
            "Downloading sample_submission.csv to /content/kaggle\n",
            "  0% 0.00/138k [00:00<?, ?B/s]\n",
            "100% 138k/138k [00:00<00:00, 45.6MB/s]\n"
          ],
          "name": "stdout"
        }
      ]
    },
    {
      "cell_type": "code",
      "metadata": {
        "id": "r8DO-2nD6Oz3",
        "colab_type": "code",
        "colab": {
          "base_uri": "https://localhost:8080/",
          "height": 54
        },
        "outputId": "9a7d58cc-24d1-4f7d-b95a-37182b287d45"
      },
      "source": [
        "!unzip /content/drive/My\\ Drive/fashion/imaterialist-fashion-2019-FGVC6.zip -d /content/drive/My\\ Drive/fashion/"
      ],
      "execution_count": 5,
      "outputs": [
        {
          "output_type": "stream",
          "text": [
            "unzip:  cannot find or open /content/drive/My Drive/fashion/imaterialist-fashion-2019-FGVC6.zip, /content/drive/My Drive/fashion/imaterialist-fashion-2019-FGVC6.zip.zip or /content/drive/My Drive/fashion/imaterialist-fashion-2019-FGVC6.zip.ZIP.\n"
          ],
          "name": "stdout"
        }
      ]
    },
    {
      "cell_type": "code",
      "metadata": {
        "id": "GtsorWv-Omzz",
        "colab_type": "code",
        "colab": {
          "base_uri": "https://localhost:8080/",
          "height": 52
        },
        "outputId": "4f67ebff-bc28-41b8-e784-53740fd42074"
      },
      "source": [
        "!unzip /content/kaggle/train.csv.zip -d /content/kaggle/"
      ],
      "execution_count": 6,
      "outputs": [
        {
          "output_type": "stream",
          "text": [
            "Archive:  /content/kaggle/train.csv.zip\n",
            "  inflating: /content/kaggle/train.csv  \n"
          ],
          "name": "stdout"
        }
      ]
    },
    {
      "cell_type": "code",
      "metadata": {
        "id": "DJGH5U76znSC",
        "colab_type": "code",
        "colab": {}
      },
      "source": [
        "import pandas as pd \n",
        "df = pd.read_csv('/content/kaggle/train.csv')"
      ],
      "execution_count": 7,
      "outputs": []
    },
    {
      "cell_type": "code",
      "metadata": {
        "id": "YSuPBkiSzsjf",
        "colab_type": "code",
        "colab": {
          "base_uri": "https://localhost:8080/",
          "height": 1000
        },
        "outputId": "355ef1fb-9f8f-48ae-8765-84743c48dfaa"
      },
      "source": [
        "df.head(50)"
      ],
      "execution_count": 8,
      "outputs": [
        {
          "output_type": "execute_result",
          "data": {
            "text/html": [
              "<div>\n",
              "<style scoped>\n",
              "    .dataframe tbody tr th:only-of-type {\n",
              "        vertical-align: middle;\n",
              "    }\n",
              "\n",
              "    .dataframe tbody tr th {\n",
              "        vertical-align: top;\n",
              "    }\n",
              "\n",
              "    .dataframe thead th {\n",
              "        text-align: right;\n",
              "    }\n",
              "</style>\n",
              "<table border=\"1\" class=\"dataframe\">\n",
              "  <thead>\n",
              "    <tr style=\"text-align: right;\">\n",
              "      <th></th>\n",
              "      <th>ImageId</th>\n",
              "      <th>EncodedPixels</th>\n",
              "      <th>Height</th>\n",
              "      <th>Width</th>\n",
              "      <th>ClassId</th>\n",
              "    </tr>\n",
              "  </thead>\n",
              "  <tbody>\n",
              "    <tr>\n",
              "      <th>0</th>\n",
              "      <td>00000663ed1ff0c4e0132b9b9ac53f6e.jpg</td>\n",
              "      <td>6068157 7 6073371 20 6078584 34 6083797 48 608...</td>\n",
              "      <td>5214</td>\n",
              "      <td>3676</td>\n",
              "      <td>6</td>\n",
              "    </tr>\n",
              "    <tr>\n",
              "      <th>1</th>\n",
              "      <td>00000663ed1ff0c4e0132b9b9ac53f6e.jpg</td>\n",
              "      <td>6323163 11 6328356 32 6333549 53 6338742 75 63...</td>\n",
              "      <td>5214</td>\n",
              "      <td>3676</td>\n",
              "      <td>0</td>\n",
              "    </tr>\n",
              "    <tr>\n",
              "      <th>2</th>\n",
              "      <td>00000663ed1ff0c4e0132b9b9ac53f6e.jpg</td>\n",
              "      <td>8521389 10 8526585 30 8531789 42 8537002 46 85...</td>\n",
              "      <td>5214</td>\n",
              "      <td>3676</td>\n",
              "      <td>28</td>\n",
              "    </tr>\n",
              "    <tr>\n",
              "      <th>3</th>\n",
              "      <td>00000663ed1ff0c4e0132b9b9ac53f6e.jpg</td>\n",
              "      <td>12903854 2 12909064 7 12914275 10 12919485 15 ...</td>\n",
              "      <td>5214</td>\n",
              "      <td>3676</td>\n",
              "      <td>31</td>\n",
              "    </tr>\n",
              "    <tr>\n",
              "      <th>4</th>\n",
              "      <td>00000663ed1ff0c4e0132b9b9ac53f6e.jpg</td>\n",
              "      <td>10837337 5 10842542 14 10847746 24 10852951 33...</td>\n",
              "      <td>5214</td>\n",
              "      <td>3676</td>\n",
              "      <td>32</td>\n",
              "    </tr>\n",
              "    <tr>\n",
              "      <th>5</th>\n",
              "      <td>00000663ed1ff0c4e0132b9b9ac53f6e.jpg</td>\n",
              "      <td>11464158 10 11469372 30 11474586 43 11479800 4...</td>\n",
              "      <td>5214</td>\n",
              "      <td>3676</td>\n",
              "      <td>32</td>\n",
              "    </tr>\n",
              "    <tr>\n",
              "      <th>6</th>\n",
              "      <td>00000663ed1ff0c4e0132b9b9ac53f6e.jpg</td>\n",
              "      <td>5910568 31 5915775 65 5920982 69 5926189 73 59...</td>\n",
              "      <td>5214</td>\n",
              "      <td>3676</td>\n",
              "      <td>31</td>\n",
              "    </tr>\n",
              "    <tr>\n",
              "      <th>7</th>\n",
              "      <td>00000663ed1ff0c4e0132b9b9ac53f6e.jpg</td>\n",
              "      <td>6421446 292 6426657 298 6431867 305 6437078 31...</td>\n",
              "      <td>5214</td>\n",
              "      <td>3676</td>\n",
              "      <td>29</td>\n",
              "    </tr>\n",
              "    <tr>\n",
              "      <th>8</th>\n",
              "      <td>00000663ed1ff0c4e0132b9b9ac53f6e.jpg</td>\n",
              "      <td>4566382 8 4571592 25 4576803 41 4582013 58 458...</td>\n",
              "      <td>5214</td>\n",
              "      <td>3676</td>\n",
              "      <td>4</td>\n",
              "    </tr>\n",
              "    <tr>\n",
              "      <th>9</th>\n",
              "      <td>0000fe7c9191fba733c8a69cfaf962b7.jpg</td>\n",
              "      <td>2201176 1 2203623 3 2206071 5 2208518 8 221096...</td>\n",
              "      <td>2448</td>\n",
              "      <td>2448</td>\n",
              "      <td>33</td>\n",
              "    </tr>\n",
              "    <tr>\n",
              "      <th>10</th>\n",
              "      <td>0000fe7c9191fba733c8a69cfaf962b7.jpg</td>\n",
              "      <td>1343707 9 1346138 27 1348569 44 1351000 62 135...</td>\n",
              "      <td>2448</td>\n",
              "      <td>2448</td>\n",
              "      <td>1</td>\n",
              "    </tr>\n",
              "    <tr>\n",
              "      <th>11</th>\n",
              "      <td>0002ec21ddb8477e98b2cbb87ea2e269.jpg</td>\n",
              "      <td>2673735 2 2676734 8 2679734 13 2682733 19 2685...</td>\n",
              "      <td>3000</td>\n",
              "      <td>1997</td>\n",
              "      <td>33</td>\n",
              "    </tr>\n",
              "    <tr>\n",
              "      <th>12</th>\n",
              "      <td>0002ec21ddb8477e98b2cbb87ea2e269.jpg</td>\n",
              "      <td>2287509 4 2290504 12 2290588 26 2293501 18 229...</td>\n",
              "      <td>3000</td>\n",
              "      <td>1997</td>\n",
              "      <td>10</td>\n",
              "    </tr>\n",
              "    <tr>\n",
              "      <th>13</th>\n",
              "      <td>0002ec21ddb8477e98b2cbb87ea2e269.jpg</td>\n",
              "      <td>3077799 43 3080792 52 3083786 60 3086779 70 30...</td>\n",
              "      <td>3000</td>\n",
              "      <td>1997</td>\n",
              "      <td>23</td>\n",
              "    </tr>\n",
              "    <tr>\n",
              "      <th>14</th>\n",
              "      <td>0002ec21ddb8477e98b2cbb87ea2e269.jpg</td>\n",
              "      <td>2678617 8 2681610 18 2684607 25 2687605 31 269...</td>\n",
              "      <td>3000</td>\n",
              "      <td>1997</td>\n",
              "      <td>23</td>\n",
              "    </tr>\n",
              "    <tr>\n",
              "      <th>15</th>\n",
              "      <td>0002f5a0ebc162ecfb73e2c91e3b8f62.jpg</td>\n",
              "      <td>435 132 1002 132 1569 132 2136 132 2703 132 32...</td>\n",
              "      <td>567</td>\n",
              "      <td>400</td>\n",
              "      <td>10</td>\n",
              "    </tr>\n",
              "    <tr>\n",
              "      <th>16</th>\n",
              "      <td>0002f5a0ebc162ecfb73e2c91e3b8f62.jpg</td>\n",
              "      <td>107288 1 107854 3 108421 2 108987 3 109554 2 1...</td>\n",
              "      <td>567</td>\n",
              "      <td>400</td>\n",
              "      <td>33</td>\n",
              "    </tr>\n",
              "    <tr>\n",
              "      <th>17</th>\n",
              "      <td>0002f5a0ebc162ecfb73e2c91e3b8f62.jpg</td>\n",
              "      <td>133262 2 133826 4 134390 6 134956 7 135522 7 1...</td>\n",
              "      <td>567</td>\n",
              "      <td>400</td>\n",
              "      <td>15</td>\n",
              "    </tr>\n",
              "    <tr>\n",
              "      <th>18</th>\n",
              "      <td>0004467156e47b0eb6de4aa6479cbd15.jpg</td>\n",
              "      <td>132663 8 133396 25 134130 41 134868 53 135611 ...</td>\n",
              "      <td>750</td>\n",
              "      <td>500</td>\n",
              "      <td>10</td>\n",
              "    </tr>\n",
              "    <tr>\n",
              "      <th>19</th>\n",
              "      <td>0004467156e47b0eb6de4aa6479cbd15.jpg</td>\n",
              "      <td>186967 3 187712 9 188457 15 189202 22 189950 2...</td>\n",
              "      <td>750</td>\n",
              "      <td>500</td>\n",
              "      <td>33</td>\n",
              "    </tr>\n",
              "    <tr>\n",
              "      <th>20</th>\n",
              "      <td>0004467156e47b0eb6de4aa6479cbd15.jpg</td>\n",
              "      <td>241830 6 242576 16 243321 24 244066 29 244811 ...</td>\n",
              "      <td>750</td>\n",
              "      <td>500</td>\n",
              "      <td>31</td>\n",
              "    </tr>\n",
              "    <tr>\n",
              "      <th>21</th>\n",
              "      <td>0004467156e47b0eb6de4aa6479cbd15.jpg</td>\n",
              "      <td>152573 1 153321 4 154069 7 154818 9 155566 12 ...</td>\n",
              "      <td>750</td>\n",
              "      <td>500</td>\n",
              "      <td>31</td>\n",
              "    </tr>\n",
              "    <tr>\n",
              "      <th>22</th>\n",
              "      <td>0004467156e47b0eb6de4aa6479cbd15.jpg</td>\n",
              "      <td>192100 1 192849 4 193598 4 194347 4 195097 4 1...</td>\n",
              "      <td>750</td>\n",
              "      <td>500</td>\n",
              "      <td>15</td>\n",
              "    </tr>\n",
              "    <tr>\n",
              "      <th>23</th>\n",
              "      <td>00048c3a2fb9c29340473c4cfc06424a.jpg</td>\n",
              "      <td>239016 3 239989 6 240963 7 241938 8 242913 9 2...</td>\n",
              "      <td>975</td>\n",
              "      <td>650</td>\n",
              "      <td>13</td>\n",
              "    </tr>\n",
              "    <tr>\n",
              "      <th>24</th>\n",
              "      <td>00048c3a2fb9c29340473c4cfc06424a.jpg</td>\n",
              "      <td>257702 10 258670 26 259640 36 260572 6 260610 ...</td>\n",
              "      <td>975</td>\n",
              "      <td>650</td>\n",
              "      <td>1</td>\n",
              "    </tr>\n",
              "    <tr>\n",
              "      <th>25</th>\n",
              "      <td>00048c3a2fb9c29340473c4cfc06424a.jpg</td>\n",
              "      <td>277152 1 278126 3 279102 2 280078 2 281053 3 2...</td>\n",
              "      <td>975</td>\n",
              "      <td>650</td>\n",
              "      <td>33</td>\n",
              "    </tr>\n",
              "    <tr>\n",
              "      <th>26</th>\n",
              "      <td>00048c3a2fb9c29340473c4cfc06424a.jpg</td>\n",
              "      <td>249119 32 250083 44 251048 55 252016 64 252096...</td>\n",
              "      <td>975</td>\n",
              "      <td>650</td>\n",
              "      <td>8</td>\n",
              "    </tr>\n",
              "    <tr>\n",
              "      <th>27</th>\n",
              "      <td>00048c3a2fb9c29340473c4cfc06424a.jpg</td>\n",
              "      <td>269630 2 270602 6 271574 9 272547 12 273519 14...</td>\n",
              "      <td>975</td>\n",
              "      <td>650</td>\n",
              "      <td>35</td>\n",
              "    </tr>\n",
              "    <tr>\n",
              "      <th>28</th>\n",
              "      <td>00048c3a2fb9c29340473c4cfc06424a.jpg</td>\n",
              "      <td>352197 3 353172 8 354146 12 355121 15 356096 1...</td>\n",
              "      <td>975</td>\n",
              "      <td>650</td>\n",
              "      <td>24</td>\n",
              "    </tr>\n",
              "    <tr>\n",
              "      <th>29</th>\n",
              "      <td>00048c3a2fb9c29340473c4cfc06424a.jpg</td>\n",
              "      <td>329326 3 330300 8 331276 12 332253 15 333231 1...</td>\n",
              "      <td>975</td>\n",
              "      <td>650</td>\n",
              "      <td>23</td>\n",
              "    </tr>\n",
              "    <tr>\n",
              "      <th>30</th>\n",
              "      <td>00048c3a2fb9c29340473c4cfc06424a.jpg</td>\n",
              "      <td>283509 4 284484 10 284549 2 285459 12 285520 7...</td>\n",
              "      <td>975</td>\n",
              "      <td>650</td>\n",
              "      <td>23</td>\n",
              "    </tr>\n",
              "    <tr>\n",
              "      <th>31</th>\n",
              "      <td>0006ea84499fd9a06fefbdf47a5eb4c0.jpg</td>\n",
              "      <td>73327 6 74328 18 75330 37 76335 63 77340 88 78...</td>\n",
              "      <td>1000</td>\n",
              "      <td>667</td>\n",
              "      <td>1</td>\n",
              "    </tr>\n",
              "    <tr>\n",
              "      <th>32</th>\n",
              "      <td>0006ea84499fd9a06fefbdf47a5eb4c0.jpg</td>\n",
              "      <td>99241 7 100239 7 101237 8 102236 7 102259 5 10...</td>\n",
              "      <td>1000</td>\n",
              "      <td>667</td>\n",
              "      <td>33</td>\n",
              "    </tr>\n",
              "    <tr>\n",
              "      <th>33</th>\n",
              "      <td>0006ea84499fd9a06fefbdf47a5eb4c0.jpg</td>\n",
              "      <td>80550 49 81478 3 81545 147 82477 7 82517 3 825...</td>\n",
              "      <td>1000</td>\n",
              "      <td>667</td>\n",
              "      <td>8</td>\n",
              "    </tr>\n",
              "    <tr>\n",
              "      <th>34</th>\n",
              "      <td>0006ea84499fd9a06fefbdf47a5eb4c0.jpg</td>\n",
              "      <td>236871 1 237870 3 238869 6 239869 8 240868 10 ...</td>\n",
              "      <td>1000</td>\n",
              "      <td>667</td>\n",
              "      <td>23</td>\n",
              "    </tr>\n",
              "    <tr>\n",
              "      <th>35</th>\n",
              "      <td>0006ea84499fd9a06fefbdf47a5eb4c0.jpg</td>\n",
              "      <td>208998 2 209996 4 210995 5 211995 5 212994 6 2...</td>\n",
              "      <td>1000</td>\n",
              "      <td>667</td>\n",
              "      <td>23</td>\n",
              "    </tr>\n",
              "    <tr>\n",
              "      <th>36</th>\n",
              "      <td>000775b6b5e27b011dc8bba2d7b85211.jpg</td>\n",
              "      <td>426259 9 427858 12 429457 14 431056 17 432655 ...</td>\n",
              "      <td>1600</td>\n",
              "      <td>1067</td>\n",
              "      <td>33</td>\n",
              "    </tr>\n",
              "    <tr>\n",
              "      <th>37</th>\n",
              "      <td>000775b6b5e27b011dc8bba2d7b85211.jpg</td>\n",
              "      <td>309670 11 311259 33 312848 55 314440 72 316033...</td>\n",
              "      <td>1600</td>\n",
              "      <td>1067</td>\n",
              "      <td>1</td>\n",
              "    </tr>\n",
              "    <tr>\n",
              "      <th>38</th>\n",
              "      <td>000775b6b5e27b011dc8bba2d7b85211.jpg</td>\n",
              "      <td>692231 10 693830 25 695430 34 697030 43 698629...</td>\n",
              "      <td>1600</td>\n",
              "      <td>1067</td>\n",
              "      <td>19</td>\n",
              "    </tr>\n",
              "    <tr>\n",
              "      <th>39</th>\n",
              "      <td>000775b6b5e27b011dc8bba2d7b85211.jpg</td>\n",
              "      <td>618579 4 620176 10 621775 14 623375 15 624974 ...</td>\n",
              "      <td>1600</td>\n",
              "      <td>1067</td>\n",
              "      <td>6</td>\n",
              "    </tr>\n",
              "    <tr>\n",
              "      <th>40</th>\n",
              "      <td>000775b6b5e27b011dc8bba2d7b85211.jpg</td>\n",
              "      <td>309670 11 311259 33 312849 54 314441 71 316034...</td>\n",
              "      <td>1600</td>\n",
              "      <td>1067</td>\n",
              "      <td>31</td>\n",
              "    </tr>\n",
              "    <tr>\n",
              "      <th>41</th>\n",
              "      <td>000775b6b5e27b011dc8bba2d7b85211.jpg</td>\n",
              "      <td>663032 1 664631 2 666229 3 667828 4 669426 6 6...</td>\n",
              "      <td>1600</td>\n",
              "      <td>1067</td>\n",
              "      <td>31</td>\n",
              "    </tr>\n",
              "    <tr>\n",
              "      <th>42</th>\n",
              "      <td>000aac3870ea7c59ca0333ffa5327323.jpg</td>\n",
              "      <td>8971124 17 8975101 49 8979077 82 8983053 116 8...</td>\n",
              "      <td>4000</td>\n",
              "      <td>6000</td>\n",
              "      <td>10_3_20_34_56_69_91</td>\n",
              "    </tr>\n",
              "    <tr>\n",
              "      <th>43</th>\n",
              "      <td>000aac3870ea7c59ca0333ffa5327323.jpg</td>\n",
              "      <td>10565221 1 10569218 5 10573216 8 10577213 11 1...</td>\n",
              "      <td>4000</td>\n",
              "      <td>6000</td>\n",
              "      <td>33</td>\n",
              "    </tr>\n",
              "    <tr>\n",
              "      <th>44</th>\n",
              "      <td>000aac3870ea7c59ca0333ffa5327323.jpg</td>\n",
              "      <td>8621972 2 8625970 5 8629968 9 8633966 13 86379...</td>\n",
              "      <td>4000</td>\n",
              "      <td>6000</td>\n",
              "      <td>3_1_10_20_41_60_61_91</td>\n",
              "    </tr>\n",
              "    <tr>\n",
              "      <th>45</th>\n",
              "      <td>000aac3870ea7c59ca0333ffa5327323.jpg</td>\n",
              "      <td>8621972 2 8625970 5 8629968 9 8633966 13 86379...</td>\n",
              "      <td>4000</td>\n",
              "      <td>6000</td>\n",
              "      <td>31</td>\n",
              "    </tr>\n",
              "    <tr>\n",
              "      <th>46</th>\n",
              "      <td>000aac3870ea7c59ca0333ffa5327323.jpg</td>\n",
              "      <td>12985563 5 12989560 13 12993557 22 12997554 30...</td>\n",
              "      <td>4000</td>\n",
              "      <td>6000</td>\n",
              "      <td>31</td>\n",
              "    </tr>\n",
              "    <tr>\n",
              "      <th>47</th>\n",
              "      <td>000aac3870ea7c59ca0333ffa5327323.jpg</td>\n",
              "      <td>10357237 9 10361232 27 10365227 44 10369222 62...</td>\n",
              "      <td>4000</td>\n",
              "      <td>6000</td>\n",
              "      <td>33</td>\n",
              "    </tr>\n",
              "    <tr>\n",
              "      <th>48</th>\n",
              "      <td>000b3a87508b0fa185fbd53ecbe2e4c6.jpg</td>\n",
              "      <td>291578 3 292856 8 294133 13 295410 19 296687 2...</td>\n",
              "      <td>1280</td>\n",
              "      <td>852</td>\n",
              "      <td>10_5_19_33_59_61_66_88</td>\n",
              "    </tr>\n",
              "    <tr>\n",
              "      <th>49</th>\n",
              "      <td>000b3a87508b0fa185fbd53ecbe2e4c6.jpg</td>\n",
              "      <td>457283 2 458562 6 459841 9 461120 13 462400 15...</td>\n",
              "      <td>1280</td>\n",
              "      <td>852</td>\n",
              "      <td>33</td>\n",
              "    </tr>\n",
              "  </tbody>\n",
              "</table>\n",
              "</div>"
            ],
            "text/plain": [
              "                                 ImageId  ...                 ClassId\n",
              "0   00000663ed1ff0c4e0132b9b9ac53f6e.jpg  ...                       6\n",
              "1   00000663ed1ff0c4e0132b9b9ac53f6e.jpg  ...                       0\n",
              "2   00000663ed1ff0c4e0132b9b9ac53f6e.jpg  ...                      28\n",
              "3   00000663ed1ff0c4e0132b9b9ac53f6e.jpg  ...                      31\n",
              "4   00000663ed1ff0c4e0132b9b9ac53f6e.jpg  ...                      32\n",
              "5   00000663ed1ff0c4e0132b9b9ac53f6e.jpg  ...                      32\n",
              "6   00000663ed1ff0c4e0132b9b9ac53f6e.jpg  ...                      31\n",
              "7   00000663ed1ff0c4e0132b9b9ac53f6e.jpg  ...                      29\n",
              "8   00000663ed1ff0c4e0132b9b9ac53f6e.jpg  ...                       4\n",
              "9   0000fe7c9191fba733c8a69cfaf962b7.jpg  ...                      33\n",
              "10  0000fe7c9191fba733c8a69cfaf962b7.jpg  ...                       1\n",
              "11  0002ec21ddb8477e98b2cbb87ea2e269.jpg  ...                      33\n",
              "12  0002ec21ddb8477e98b2cbb87ea2e269.jpg  ...                      10\n",
              "13  0002ec21ddb8477e98b2cbb87ea2e269.jpg  ...                      23\n",
              "14  0002ec21ddb8477e98b2cbb87ea2e269.jpg  ...                      23\n",
              "15  0002f5a0ebc162ecfb73e2c91e3b8f62.jpg  ...                      10\n",
              "16  0002f5a0ebc162ecfb73e2c91e3b8f62.jpg  ...                      33\n",
              "17  0002f5a0ebc162ecfb73e2c91e3b8f62.jpg  ...                      15\n",
              "18  0004467156e47b0eb6de4aa6479cbd15.jpg  ...                      10\n",
              "19  0004467156e47b0eb6de4aa6479cbd15.jpg  ...                      33\n",
              "20  0004467156e47b0eb6de4aa6479cbd15.jpg  ...                      31\n",
              "21  0004467156e47b0eb6de4aa6479cbd15.jpg  ...                      31\n",
              "22  0004467156e47b0eb6de4aa6479cbd15.jpg  ...                      15\n",
              "23  00048c3a2fb9c29340473c4cfc06424a.jpg  ...                      13\n",
              "24  00048c3a2fb9c29340473c4cfc06424a.jpg  ...                       1\n",
              "25  00048c3a2fb9c29340473c4cfc06424a.jpg  ...                      33\n",
              "26  00048c3a2fb9c29340473c4cfc06424a.jpg  ...                       8\n",
              "27  00048c3a2fb9c29340473c4cfc06424a.jpg  ...                      35\n",
              "28  00048c3a2fb9c29340473c4cfc06424a.jpg  ...                      24\n",
              "29  00048c3a2fb9c29340473c4cfc06424a.jpg  ...                      23\n",
              "30  00048c3a2fb9c29340473c4cfc06424a.jpg  ...                      23\n",
              "31  0006ea84499fd9a06fefbdf47a5eb4c0.jpg  ...                       1\n",
              "32  0006ea84499fd9a06fefbdf47a5eb4c0.jpg  ...                      33\n",
              "33  0006ea84499fd9a06fefbdf47a5eb4c0.jpg  ...                       8\n",
              "34  0006ea84499fd9a06fefbdf47a5eb4c0.jpg  ...                      23\n",
              "35  0006ea84499fd9a06fefbdf47a5eb4c0.jpg  ...                      23\n",
              "36  000775b6b5e27b011dc8bba2d7b85211.jpg  ...                      33\n",
              "37  000775b6b5e27b011dc8bba2d7b85211.jpg  ...                       1\n",
              "38  000775b6b5e27b011dc8bba2d7b85211.jpg  ...                      19\n",
              "39  000775b6b5e27b011dc8bba2d7b85211.jpg  ...                       6\n",
              "40  000775b6b5e27b011dc8bba2d7b85211.jpg  ...                      31\n",
              "41  000775b6b5e27b011dc8bba2d7b85211.jpg  ...                      31\n",
              "42  000aac3870ea7c59ca0333ffa5327323.jpg  ...     10_3_20_34_56_69_91\n",
              "43  000aac3870ea7c59ca0333ffa5327323.jpg  ...                      33\n",
              "44  000aac3870ea7c59ca0333ffa5327323.jpg  ...   3_1_10_20_41_60_61_91\n",
              "45  000aac3870ea7c59ca0333ffa5327323.jpg  ...                      31\n",
              "46  000aac3870ea7c59ca0333ffa5327323.jpg  ...                      31\n",
              "47  000aac3870ea7c59ca0333ffa5327323.jpg  ...                      33\n",
              "48  000b3a87508b0fa185fbd53ecbe2e4c6.jpg  ...  10_5_19_33_59_61_66_88\n",
              "49  000b3a87508b0fa185fbd53ecbe2e4c6.jpg  ...                      33\n",
              "\n",
              "[50 rows x 5 columns]"
            ]
          },
          "metadata": {
            "tags": []
          },
          "execution_count": 8
        }
      ]
    },
    {
      "cell_type": "code",
      "metadata": {
        "id": "sCXvkpRQz_2n",
        "colab_type": "code",
        "colab": {}
      },
      "source": [
        "# 0.shirts 6.pants 13.glasses 18.watch 23.shoe 24.bag,wallet\n",
        "df6_cate =df[(df['ClassId']=='0')|(df['ClassId']=='6')|(df['ClassId']=='13')|(df['ClassId']=='18')|(df['ClassId']=='23')|(df['ClassId']=='24')]\n",
        "df3_cate = df[(df['ClassId']=='0')|(df['ClassId']=='6')|(df['ClassId']=='13')]"
      ],
      "execution_count": 9,
      "outputs": []
    },
    {
      "cell_type": "code",
      "metadata": {
        "id": "MOq_lkuLICgD",
        "colab_type": "code",
        "colab": {
          "base_uri": "https://localhost:8080/",
          "height": 52
        },
        "outputId": "73e9b72e-924b-4538-ee8c-29db6771dd09"
      },
      "source": [
        "# len(df6_cate)\n",
        "print(len(df3_cate))\n",
        "print(len(df3_cate['ImageId'].unique()))\n"
      ],
      "execution_count": 10,
      "outputs": [
        {
          "output_type": "stream",
          "text": [
            "21038\n",
            "15375\n"
          ],
          "name": "stdout"
        }
      ]
    },
    {
      "cell_type": "code",
      "metadata": {
        "id": "vhFjBL5S0V-J",
        "colab_type": "code",
        "colab": {}
      },
      "source": [
        "# df3_cate.to_csv('/content/drive/My Drive/EVOKE/imater/df3_cate.csv')\n",
        "# df6_cate.to_csv('/content/drive/My Drive/EVOKE/imater/df6_cate.csv')\n"
      ],
      "execution_count": 11,
      "outputs": []
    },
    {
      "cell_type": "code",
      "metadata": {
        "id": "QjY157YT0key",
        "colab_type": "code",
        "colab": {}
      },
      "source": [
        "import json\n",
        "with open('/content/kaggle/label_descriptions.json') as f:\n",
        "    label_descriptions=json.load(f)\n",
        "    \n",
        "label_names=[]\n",
        "for x in label_descriptions['categories']:#we'll only take the data for classes 0 and 10\n",
        "    # print(x['id'])\n",
        "    if((x['id']==0) or (x['id']==6) or (x['id']==13)):\n",
        "        label_names.append(x['name'])"
      ],
      "execution_count": 11,
      "outputs": []
    },
    {
      "cell_type": "code",
      "metadata": {
        "id": "P7kHBkcQ0o-R",
        "colab_type": "code",
        "colab": {
          "base_uri": "https://localhost:8080/",
          "height": 34
        },
        "outputId": "ff62d788-291b-4b09-c12c-53e6f3e43b81"
      },
      "source": [
        "label_names"
      ],
      "execution_count": 12,
      "outputs": [
        {
          "output_type": "execute_result",
          "data": {
            "text/plain": [
              "['shirt, blouse', 'pants', 'glasses']"
            ]
          },
          "metadata": {
            "tags": []
          },
          "execution_count": 12
        }
      ]
    },
    {
      "cell_type": "code",
      "metadata": {
        "id": "13a5H8U41D-G",
        "colab_type": "code",
        "colab": {
          "base_uri": "https://localhost:8080/",
          "height": 107
        },
        "outputId": "bdc6ecd1-842f-4c58-b8bb-2b132508ed11"
      },
      "source": [
        "image_df=df3_cate.groupby('ImageId')['EncodedPixels','ClassId'].agg(lambda x:list(x))\n",
        "size_df=df3_cate.groupby('ImageId')['Height','Width'].mean()\n",
        "image_df=image_df.join(size_df,on='ImageId')\n",
        "image_df.reset_index(inplace=True)"
      ],
      "execution_count": 13,
      "outputs": [
        {
          "output_type": "stream",
          "text": [
            "/usr/local/lib/python3.6/dist-packages/ipykernel_launcher.py:1: FutureWarning: Indexing with multiple keys (implicitly converted to a tuple of keys) will be deprecated, use a list instead.\n",
            "  \"\"\"Entry point for launching an IPython kernel.\n",
            "/usr/local/lib/python3.6/dist-packages/ipykernel_launcher.py:2: FutureWarning: Indexing with multiple keys (implicitly converted to a tuple of keys) will be deprecated, use a list instead.\n",
            "  \n"
          ],
          "name": "stderr"
        }
      ]
    },
    {
      "cell_type": "code",
      "metadata": {
        "id": "MNipykL31oBW",
        "colab_type": "code",
        "colab": {}
      },
      "source": [
        "image_df.to_csv('/content/drive/My Drive/EVOKE/imater/image_df_3cate.csv')"
      ],
      "execution_count": 14,
      "outputs": []
    },
    {
      "cell_type": "markdown",
      "metadata": {
        "id": "VJdhFOEiRZ2E",
        "colab_type": "text"
      },
      "source": [
        "# making maskrcnn ready"
      ]
    },
    {
      "cell_type": "code",
      "metadata": {
        "id": "N8M4BQ28RXHl",
        "colab_type": "code",
        "colab": {}
      },
      "source": [
        "import gc  #garbage collector\n",
        "import sys \n",
        "import json\n",
        "import glob\n",
        "import random\n",
        "from pathlib import Path\n",
        "import os\n",
        "import cv2\n",
        "import numpy as np\n",
        "import pandas as pd\n",
        "import matplotlib.pyplot as plt\n",
        "\n",
        "import itertools\n",
        "from tqdm import tqdm\n",
        "\n",
        "from imgaug import augmenters as iaa  #data augmentatoin (multiple representations of the same image')'\n",
        "from sklearn.model_selection import StratifiedKFold, KFold"
      ],
      "execution_count": 15,
      "outputs": []
    },
    {
      "cell_type": "code",
      "metadata": {
        "id": "QLTNc8peRXEK",
        "colab_type": "code",
        "colab": {}
      },
      "source": [
        "NUM_CATS = 3\n",
        "IMAGE_SIZE = 512"
      ],
      "execution_count": 16,
      "outputs": []
    },
    {
      "cell_type": "code",
      "metadata": {
        "id": "bDj4dTQSRXBa",
        "colab_type": "code",
        "colab": {
          "base_uri": "https://localhost:8080/",
          "height": 123
        },
        "outputId": "74b61b0a-8bf3-47ca-e230-029b8c9519bb"
      },
      "source": [
        "!git clone https://www.github.com/matterport/Mask_RCNN.git\n",
        "os.chdir('Mask_RCNN')    \n",
        "\n",
        "!rm -rf .git # to prevent an error when the kernel is committed\n",
        "!rm -rf images assets # to prevent displaying images at the bottom of a kernel"
      ],
      "execution_count": 17,
      "outputs": [
        {
          "output_type": "stream",
          "text": [
            "Cloning into 'Mask_RCNN'...\n",
            "warning: redirecting to https://github.com/matterport/Mask_RCNN.git/\n",
            "remote: Enumerating objects: 956, done.\u001b[K\n",
            "remote: Total 956 (delta 0), reused 0 (delta 0), pack-reused 956\u001b[K\n",
            "Receiving objects: 100% (956/956), 116.77 MiB | 13.72 MiB/s, done.\n",
            "Resolving deltas: 100% (566/566), done.\n"
          ],
          "name": "stdout"
        }
      ]
    },
    {
      "cell_type": "code",
      "metadata": {
        "id": "gzq33oglR3Zi",
        "colab_type": "code",
        "colab": {}
      },
      "source": [
        "sys.path.append('/content/Mask_RCNN')\n"
      ],
      "execution_count": 18,
      "outputs": []
    },
    {
      "cell_type": "code",
      "metadata": {
        "id": "i3QRbnePR3Wp",
        "colab_type": "code",
        "colab": {
          "base_uri": "https://localhost:8080/",
          "height": 907
        },
        "outputId": "494fd776-576f-4ad6-8b98-31a7f52ef958"
      },
      "source": [
        "!pip install tensorflow==1.15.0rc0 #need that because Mask-RCNN version\n",
        "!pip install keras==2.1.5\n",
        "\n",
        "import tensorflow\n",
        "print(tensorflow.__version__)\n",
        "import keras\n",
        "print(keras.__version__)"
      ],
      "execution_count": 19,
      "outputs": [
        {
          "output_type": "stream",
          "text": [
            "Collecting tensorflow==1.15.0rc0\n",
            "\u001b[?25l  Downloading https://files.pythonhosted.org/packages/b4/18/531ce5af5d3141ef7df0890243adac466f390a79b844588f9a5213e942ac/tensorflow-1.15.0rc0-cp36-cp36m-manylinux2010_x86_64.whl (411.7MB)\n",
            "\u001b[K     |████████████████████████████████| 411.7MB 29kB/s \n",
            "\u001b[?25hCollecting tf-estimator-nightly<1.14.0.dev2019090402,>=1.14.0.dev2019090401\n",
            "\u001b[?25l  Downloading https://files.pythonhosted.org/packages/0b/cc/3b0618eaf43762cf8a6cbb8e6b113f3144b5005f341f2e312116ef702dc3/tf_estimator_nightly-1.14.0.dev2019090401-py2.py3-none-any.whl (503kB)\n",
            "\u001b[K     |████████████████████████████████| 512kB 54.5MB/s \n",
            "\u001b[?25hRequirement already satisfied: grpcio>=1.8.6 in /usr/local/lib/python3.6/dist-packages (from tensorflow==1.15.0rc0) (1.30.0)\n",
            "Requirement already satisfied: wheel>=0.26 in /usr/local/lib/python3.6/dist-packages (from tensorflow==1.15.0rc0) (0.34.2)\n",
            "Requirement already satisfied: absl-py>=0.7.0 in /usr/local/lib/python3.6/dist-packages (from tensorflow==1.15.0rc0) (0.9.0)\n",
            "Requirement already satisfied: six>=1.10.0 in /usr/local/lib/python3.6/dist-packages (from tensorflow==1.15.0rc0) (1.15.0)\n",
            "Collecting tb-nightly<1.15.0a20190822,>=1.15.0a20190821\n",
            "\u001b[?25l  Downloading https://files.pythonhosted.org/packages/3f/04/553eb364c85cb4f5f9381388fbd64898f3582eed1b38e3c461abbfa4a6fa/tb_nightly-1.15.0a20190821-py3-none-any.whl (4.1MB)\n",
            "\u001b[K     |████████████████████████████████| 4.1MB 38.5MB/s \n",
            "\u001b[?25hRequirement already satisfied: opt-einsum>=2.3.2 in /usr/local/lib/python3.6/dist-packages (from tensorflow==1.15.0rc0) (3.3.0)\n",
            "Requirement already satisfied: keras-preprocessing>=1.0.5 in /usr/local/lib/python3.6/dist-packages (from tensorflow==1.15.0rc0) (1.1.2)\n",
            "Requirement already satisfied: numpy<2.0,>=1.16.0 in /usr/local/lib/python3.6/dist-packages (from tensorflow==1.15.0rc0) (1.18.5)\n",
            "Requirement already satisfied: wrapt>=1.11.1 in /usr/local/lib/python3.6/dist-packages (from tensorflow==1.15.0rc0) (1.12.1)\n",
            "Requirement already satisfied: astor>=0.6.0 in /usr/local/lib/python3.6/dist-packages (from tensorflow==1.15.0rc0) (0.8.1)\n",
            "Requirement already satisfied: termcolor>=1.1.0 in /usr/local/lib/python3.6/dist-packages (from tensorflow==1.15.0rc0) (1.1.0)\n",
            "Requirement already satisfied: protobuf>=3.6.1 in /usr/local/lib/python3.6/dist-packages (from tensorflow==1.15.0rc0) (3.12.2)\n",
            "Requirement already satisfied: gast>=0.2.0 in /usr/local/lib/python3.6/dist-packages (from tensorflow==1.15.0rc0) (0.3.3)\n",
            "Requirement already satisfied: google-pasta>=0.1.6 in /usr/local/lib/python3.6/dist-packages (from tensorflow==1.15.0rc0) (0.2.0)\n",
            "Requirement already satisfied: keras-applications>=1.0.8 in /usr/local/lib/python3.6/dist-packages (from tensorflow==1.15.0rc0) (1.0.8)\n",
            "Requirement already satisfied: setuptools>=41.0.0 in /usr/local/lib/python3.6/dist-packages (from tb-nightly<1.15.0a20190822,>=1.15.0a20190821->tensorflow==1.15.0rc0) (49.2.0)\n",
            "Requirement already satisfied: markdown>=2.6.8 in /usr/local/lib/python3.6/dist-packages (from tb-nightly<1.15.0a20190822,>=1.15.0a20190821->tensorflow==1.15.0rc0) (3.2.2)\n",
            "Requirement already satisfied: werkzeug>=0.11.15 in /usr/local/lib/python3.6/dist-packages (from tb-nightly<1.15.0a20190822,>=1.15.0a20190821->tensorflow==1.15.0rc0) (1.0.1)\n",
            "Requirement already satisfied: h5py in /usr/local/lib/python3.6/dist-packages (from keras-applications>=1.0.8->tensorflow==1.15.0rc0) (2.10.0)\n",
            "Requirement already satisfied: importlib-metadata; python_version < \"3.8\" in /usr/local/lib/python3.6/dist-packages (from markdown>=2.6.8->tb-nightly<1.15.0a20190822,>=1.15.0a20190821->tensorflow==1.15.0rc0) (1.7.0)\n",
            "Requirement already satisfied: zipp>=0.5 in /usr/local/lib/python3.6/dist-packages (from importlib-metadata; python_version < \"3.8\"->markdown>=2.6.8->tb-nightly<1.15.0a20190822,>=1.15.0a20190821->tensorflow==1.15.0rc0) (3.1.0)\n",
            "Installing collected packages: tf-estimator-nightly, tb-nightly, tensorflow\n",
            "  Found existing installation: tensorflow 2.2.0\n",
            "    Uninstalling tensorflow-2.2.0:\n",
            "      Successfully uninstalled tensorflow-2.2.0\n",
            "Successfully installed tb-nightly-1.15.0a20190821 tensorflow-1.15.0rc0 tf-estimator-nightly-1.14.0.dev2019090401\n",
            "Collecting keras==2.1.5\n",
            "\u001b[?25l  Downloading https://files.pythonhosted.org/packages/ba/65/e4aff762b8696ec0626a6654b1e73b396fcc8b7cc6b98d78a1bc53b85b48/Keras-2.1.5-py2.py3-none-any.whl (334kB)\n",
            "\u001b[K     |████████████████████████████████| 337kB 9.3MB/s \n",
            "\u001b[?25hRequirement already satisfied: numpy>=1.9.1 in /usr/local/lib/python3.6/dist-packages (from keras==2.1.5) (1.18.5)\n",
            "Requirement already satisfied: six>=1.9.0 in /usr/local/lib/python3.6/dist-packages (from keras==2.1.5) (1.15.0)\n",
            "Requirement already satisfied: scipy>=0.14 in /usr/local/lib/python3.6/dist-packages (from keras==2.1.5) (1.4.1)\n",
            "Requirement already satisfied: pyyaml in /usr/local/lib/python3.6/dist-packages (from keras==2.1.5) (3.13)\n",
            "Installing collected packages: keras\n",
            "  Found existing installation: Keras 2.3.1\n",
            "    Uninstalling Keras-2.3.1:\n",
            "      Successfully uninstalled Keras-2.3.1\n",
            "Successfully installed keras-2.1.5\n",
            "1.15.0-rc0\n",
            "2.1.5\n"
          ],
          "name": "stdout"
        },
        {
          "output_type": "stream",
          "text": [
            "Using TensorFlow backend.\n"
          ],
          "name": "stderr"
        }
      ]
    },
    {
      "cell_type": "code",
      "metadata": {
        "id": "2Kv4AD1aSA_Z",
        "colab_type": "code",
        "colab": {}
      },
      "source": [
        "from mrcnn.config import Config #need to have tensorflow 2.2.0 installed\n",
        "from mrcnn import utils\n",
        "import mrcnn.model as modellib\n",
        "from mrcnn import visualize\n",
        "from mrcnn.model import log"
      ],
      "execution_count": 20,
      "outputs": []
    },
    {
      "cell_type": "code",
      "metadata": {
        "id": "3KSKhUfySA85",
        "colab_type": "code",
        "colab": {
          "base_uri": "https://localhost:8080/",
          "height": 34
        },
        "outputId": "2a8ab0ce-cfdc-4456-d989-d25810c42504"
      },
      "source": [
        "!wget --quiet https://github.com/matterport/Mask_RCNN/releases/download/v2.0/mask_rcnn_coco.h5  #wget command in linux is used to download files from the internet\n",
        "!ls -lh mask_rcnn_coco.h5\n",
        "\n",
        "COCO_WEIGHTS_PATH = 'mask_rcnn_coco.h5'"
      ],
      "execution_count": 21,
      "outputs": [
        {
          "output_type": "stream",
          "text": [
            "-rw-r--r-- 1 root root 246M Nov 26  2017 mask_rcnn_coco.h5\n"
          ],
          "name": "stdout"
        }
      ]
    },
    {
      "cell_type": "code",
      "metadata": {
        "id": "dxnZCF3APzGn",
        "colab_type": "code",
        "colab": {}
      },
      "source": [
        "from skimage import io\n",
        "\n",
        "def resize_image(image_path):\n",
        "    try:\n",
        "        img = io.imread(image_path)\n",
        "        img = cv2.cvtColor(img, cv2.COLOR_BGR2RGB)\n",
        "        img = cv2.resize(img, (512, 512), interpolation=cv2.INTER_AREA)  \n",
        "        return img\n",
        "    except Exception as e:\n",
        "        print(str(e))"
      ],
      "execution_count": 22,
      "outputs": []
    },
    {
      "cell_type": "code",
      "metadata": {
        "id": "D6QL3qdOTRkZ",
        "colab_type": "code",
        "colab": {}
      },
      "source": [
        "class FashionConfig(Config):\n",
        "    NAME = \"fashion\"\n",
        "    NUM_CLASSES = 4 # +1 for the background class\n",
        "    \n",
        "    GPU_COUNT = 1\n",
        "    IMAGES_PER_GPU = 1 # a memory error occurs when IMAGES_PER_GPU is too high\n",
        "    \n",
        "    BACKBONE = 'resnet50'\n",
        "    \n",
        "    IMAGE_MIN_DIM = IMAGE_SIZE   #config class uses these variables image_min_dims and image_max_dims, need to feed them the image size\n",
        "    IMAGE_MAX_DIM = IMAGE_SIZE    \n",
        "    IMAGE_RESIZE_MODE = 'none'\n",
        "    \n",
        "    RPN_ANCHOR_SCALES = (16, 32, 64, 128, 256)\n",
        "    \n",
        "    STEPS_PER_EPOCH = 100\n",
        "    VALIDATION_STEPS = 20\n",
        "    \n",
        "config = FashionConfig()"
      ],
      "execution_count": 23,
      "outputs": []
    },
    {
      "cell_type": "code",
      "metadata": {
        "id": "FGmMs3F4Q1Sq",
        "colab_type": "code",
        "colab": {}
      },
      "source": [
        "class FashionDataset(utils.Dataset):\n",
        "\n",
        "    def __init__(self, df):\n",
        "        super().__init__(self)\n",
        "        \n",
        "        # Add classes\n",
        "        for i, name in enumerate(label_names):\n",
        "            self.add_class(\"fashion\", str(i), name)\n",
        "\n",
        "                \n",
        "        # Add images \n",
        "        for i, row in df.iterrows():\n",
        "            if(row['ClassId'][0]==10):\n",
        "                row['ClassId'][0]=1\n",
        "            self.add_image(\"fashion\", \n",
        "                           image_id=row.name, \n",
        "                           path=str(datadir+'/'+row['ImageId']),\n",
        "                           labels=row['ClassId'],\n",
        "                           annotations=row['EncodedPixels'], \n",
        "                           height=row['Height'], width=row['Width'])\n",
        "\n",
        "    def image_reference(self, image_id):\n",
        "        info = self.image_info[image_id]\n",
        "        return info['path']\n",
        "    def load_image(self, image_id):\n",
        "        return resize_image(self.image_info[image_id]['path'])\n",
        "\n",
        "    def load_mask(self, image_id):\n",
        "        info = self.image_info[image_id]  #info refers to info of an image(height,width,labels,annotation..)\n",
        "        print(info)\n",
        "        mask = np.zeros((512, 512,1), dtype=np.uint8)  #each mask will be the same shape as the image i.e. (512,512,1)\n",
        "        labels = []\n",
        "        \n",
        "        for m, (annotation_str, label) in enumerate(zip(info['annotations'], info['labels'])):\n",
        "            sub_mask = np.full((info['height'],info['width']), 0, dtype=np.uint8) #creating a mask of the size of the original image\n",
        "            print(sub_mask.shape)\n",
        "            annotation_int = [int(x) for x in annotation_str.split(' ')]  #splitting and converting all entries to int\n",
        "            \n",
        "            # print(annotation_int)\n",
        "            # print(len(annotation_int))\n",
        "            # # decoding the encoded mask\n",
        "            for i, start_pixel in enumerate(annotation_int):\n",
        "                sub_mask[start_pixel: start_pixel+annotation_int[2*i+1]] = 1\n",
        "            \n",
        "            #converting it to a 2-D array, resizing it to the shape as that of the input\n",
        "            sub_mask = sub_mask.reshape((info['height'], info['width']), order='F')\n",
        "            sub_mask = cv2.resize(sub_mask, (512, 512), interpolation=cv2.INTER_NEAREST)\n",
        "\n",
        "            mask[:, :, m] = sub_mask  #mth mask for that particular image\n",
        "            labels.append(int(label))\n",
        "            \n",
        "        return mask, np.array(labels)"
      ],
      "execution_count": 54,
      "outputs": []
    },
    {
      "cell_type": "markdown",
      "metadata": {
        "id": "7BmFStn-ssQ5",
        "colab_type": "text"
      },
      "source": [
        "# make images ready"
      ]
    },
    {
      "cell_type": "code",
      "metadata": {
        "id": "wkqtioVUyenm",
        "colab_type": "code",
        "colab": {
          "base_uri": "https://localhost:8080/",
          "height": 34
        },
        "outputId": "c980a51a-530c-437d-8371-b548642c5970"
      },
      "source": [
        "len(os.listdir('/content/drive/My Drive/data/fashion/imgs'))"
      ],
      "execution_count": 25,
      "outputs": [
        {
          "output_type": "execute_result",
          "data": {
            "text/plain": [
              "19388"
            ]
          },
          "metadata": {
            "tags": []
          },
          "execution_count": 25
        }
      ]
    },
    {
      "cell_type": "code",
      "metadata": {
        "id": "6dJQ7maozPx2",
        "colab_type": "code",
        "colab": {
          "base_uri": "https://localhost:8080/",
          "height": 406
        },
        "outputId": "b515d322-0067-4d57-9d53-d1ad45c19679"
      },
      "source": [
        "files = os.listdir('/content/drive/My Drive/data/fashion/imgs')\n",
        "\n",
        "df_train = df3_cate[df3_cate['ImageId'].isin(files)]\n",
        "df_train"
      ],
      "execution_count": 26,
      "outputs": [
        {
          "output_type": "execute_result",
          "data": {
            "text/html": [
              "<div>\n",
              "<style scoped>\n",
              "    .dataframe tbody tr th:only-of-type {\n",
              "        vertical-align: middle;\n",
              "    }\n",
              "\n",
              "    .dataframe tbody tr th {\n",
              "        vertical-align: top;\n",
              "    }\n",
              "\n",
              "    .dataframe thead th {\n",
              "        text-align: right;\n",
              "    }\n",
              "</style>\n",
              "<table border=\"1\" class=\"dataframe\">\n",
              "  <thead>\n",
              "    <tr style=\"text-align: right;\">\n",
              "      <th></th>\n",
              "      <th>ImageId</th>\n",
              "      <th>EncodedPixels</th>\n",
              "      <th>Height</th>\n",
              "      <th>Width</th>\n",
              "      <th>ClassId</th>\n",
              "    </tr>\n",
              "  </thead>\n",
              "  <tbody>\n",
              "    <tr>\n",
              "      <th>0</th>\n",
              "      <td>00000663ed1ff0c4e0132b9b9ac53f6e.jpg</td>\n",
              "      <td>6068157 7 6073371 20 6078584 34 6083797 48 608...</td>\n",
              "      <td>5214</td>\n",
              "      <td>3676</td>\n",
              "      <td>6</td>\n",
              "    </tr>\n",
              "    <tr>\n",
              "      <th>1</th>\n",
              "      <td>00000663ed1ff0c4e0132b9b9ac53f6e.jpg</td>\n",
              "      <td>6323163 11 6328356 32 6333549 53 6338742 75 63...</td>\n",
              "      <td>5214</td>\n",
              "      <td>3676</td>\n",
              "      <td>0</td>\n",
              "    </tr>\n",
              "    <tr>\n",
              "      <th>23</th>\n",
              "      <td>00048c3a2fb9c29340473c4cfc06424a.jpg</td>\n",
              "      <td>239016 3 239989 6 240963 7 241938 8 242913 9 2...</td>\n",
              "      <td>975</td>\n",
              "      <td>650</td>\n",
              "      <td>13</td>\n",
              "    </tr>\n",
              "    <tr>\n",
              "      <th>39</th>\n",
              "      <td>000775b6b5e27b011dc8bba2d7b85211.jpg</td>\n",
              "      <td>618579 4 620176 10 621775 14 623375 15 624974 ...</td>\n",
              "      <td>1600</td>\n",
              "      <td>1067</td>\n",
              "      <td>6</td>\n",
              "    </tr>\n",
              "    <tr>\n",
              "      <th>53</th>\n",
              "      <td>000b3ec2c6eaffb491a5abb72c2e3e26.jpg</td>\n",
              "      <td>701292 5 703597 15 705903 25 708209 34 710515 ...</td>\n",
              "      <td>2310</td>\n",
              "      <td>1536</td>\n",
              "      <td>6</td>\n",
              "    </tr>\n",
              "    <tr>\n",
              "      <th>...</th>\n",
              "      <td>...</td>\n",
              "      <td>...</td>\n",
              "      <td>...</td>\n",
              "      <td>...</td>\n",
              "      <td>...</td>\n",
              "    </tr>\n",
              "    <tr>\n",
              "      <th>218971</th>\n",
              "      <td>a97d90657cf9b2d4ba4f6b3ec82b04ba.jpg</td>\n",
              "      <td>14386096 5 14393455 13 14400814 22 14408173 31...</td>\n",
              "      <td>7360</td>\n",
              "      <td>4912</td>\n",
              "      <td>6</td>\n",
              "    </tr>\n",
              "    <tr>\n",
              "      <th>218977</th>\n",
              "      <td>a97d90657cf9b2d4ba4f6b3ec82b04ba.jpg</td>\n",
              "      <td>12663526 7 12670883 20 12678241 29 12685599 38...</td>\n",
              "      <td>7360</td>\n",
              "      <td>4912</td>\n",
              "      <td>0</td>\n",
              "    </tr>\n",
              "    <tr>\n",
              "      <th>218981</th>\n",
              "      <td>a97f02c5d40af306f355d8edc8a73fcc.jpg</td>\n",
              "      <td>189533 2 190531 3 191530 4 192529 4 193529 4 1...</td>\n",
              "      <td>1000</td>\n",
              "      <td>1500</td>\n",
              "      <td>6</td>\n",
              "    </tr>\n",
              "    <tr>\n",
              "      <th>219001</th>\n",
              "      <td>a98346dc2ffeff773f8ffd25d1a51b1d.jpg</td>\n",
              "      <td>31998 2 32496 4 32993 7 33490 10 33987 13 3448...</td>\n",
              "      <td>500</td>\n",
              "      <td>375</td>\n",
              "      <td>6</td>\n",
              "    </tr>\n",
              "    <tr>\n",
              "      <th>219007</th>\n",
              "      <td>a98346dc2ffeff773f8ffd25d1a51b1d.jpg</td>\n",
              "      <td>71586 1 72085 3 72584 5 73083 7 73582 9 74081 ...</td>\n",
              "      <td>500</td>\n",
              "      <td>375</td>\n",
              "      <td>0</td>\n",
              "    </tr>\n",
              "  </tbody>\n",
              "</table>\n",
              "<p>9052 rows × 5 columns</p>\n",
              "</div>"
            ],
            "text/plain": [
              "                                     ImageId  ... ClassId\n",
              "0       00000663ed1ff0c4e0132b9b9ac53f6e.jpg  ...       6\n",
              "1       00000663ed1ff0c4e0132b9b9ac53f6e.jpg  ...       0\n",
              "23      00048c3a2fb9c29340473c4cfc06424a.jpg  ...      13\n",
              "39      000775b6b5e27b011dc8bba2d7b85211.jpg  ...       6\n",
              "53      000b3ec2c6eaffb491a5abb72c2e3e26.jpg  ...       6\n",
              "...                                      ...  ...     ...\n",
              "218971  a97d90657cf9b2d4ba4f6b3ec82b04ba.jpg  ...       6\n",
              "218977  a97d90657cf9b2d4ba4f6b3ec82b04ba.jpg  ...       0\n",
              "218981  a97f02c5d40af306f355d8edc8a73fcc.jpg  ...       6\n",
              "219001  a98346dc2ffeff773f8ffd25d1a51b1d.jpg  ...       6\n",
              "219007  a98346dc2ffeff773f8ffd25d1a51b1d.jpg  ...       0\n",
              "\n",
              "[9052 rows x 5 columns]"
            ]
          },
          "metadata": {
            "tags": []
          },
          "execution_count": 26
        }
      ]
    },
    {
      "cell_type": "code",
      "metadata": {
        "id": "W9aSnuiv-eem",
        "colab_type": "code",
        "colab": {
          "base_uri": "https://localhost:8080/",
          "height": 34
        },
        "outputId": "f6cfe4fe-004c-49b0-d4cd-71e362c926c3"
      },
      "source": [
        "df_train['ClassId'].unique()"
      ],
      "execution_count": 27,
      "outputs": [
        {
          "output_type": "execute_result",
          "data": {
            "text/plain": [
              "array(['6', '0', '13'], dtype=object)"
            ]
          },
          "metadata": {
            "tags": []
          },
          "execution_count": 27
        }
      ]
    },
    {
      "cell_type": "code",
      "metadata": {
        "id": "GZa67ghjz3Ho",
        "colab_type": "code",
        "colab": {
          "base_uri": "https://localhost:8080/",
          "height": 52
        },
        "outputId": "1e7079c1-74ba-4363-e09c-17f620948d3c"
      },
      "source": [
        "print(len(df_train))\n",
        "print(df_train['ClassId'].unique())"
      ],
      "execution_count": 28,
      "outputs": [
        {
          "output_type": "stream",
          "text": [
            "9052\n",
            "['6' '0' '13']\n"
          ],
          "name": "stdout"
        }
      ]
    },
    {
      "cell_type": "code",
      "metadata": {
        "id": "EORy4cvE02KA",
        "colab_type": "code",
        "colab": {}
      },
      "source": [
        "datadir = '/content/drive/My Drive/data/fashion/imgs'\n"
      ],
      "execution_count": 29,
      "outputs": []
    },
    {
      "cell_type": "code",
      "metadata": {
        "id": "Db5iR59Q4Ncw",
        "colab_type": "code",
        "colab": {}
      },
      "source": [
        "train_df = df_train.sample(7000)\n",
        "test_df = pd.concat([df_train, train_df]).drop_duplicates(keep=False)"
      ],
      "execution_count": 30,
      "outputs": []
    },
    {
      "cell_type": "code",
      "metadata": {
        "id": "teKpMIWz4NZg",
        "colab_type": "code",
        "colab": {
          "base_uri": "https://localhost:8080/",
          "height": 52
        },
        "outputId": "03260dd9-5ea7-4c0b-ba61-9c5510db2c8a"
      },
      "source": [
        "print(len(test_df))\n",
        "print(len(train_df))"
      ],
      "execution_count": 35,
      "outputs": [
        {
          "output_type": "stream",
          "text": [
            "2052\n",
            "7000\n"
          ],
          "name": "stdout"
        }
      ]
    },
    {
      "cell_type": "code",
      "metadata": {
        "id": "h5I_igsMQ1QF",
        "colab_type": "code",
        "colab": {}
      },
      "source": [
        "dataset = FashionDataset(train_df)\n",
        "dataset.prepare()"
      ],
      "execution_count": 55,
      "outputs": []
    },
    {
      "cell_type": "code",
      "metadata": {
        "id": "ql9wryRI4NWu",
        "colab_type": "code",
        "colab": {}
      },
      "source": [
        "for i in range(10):\n",
        "    image_id = random.choice(dataset.image_ids)\n",
        "    print('first',dataset.image_reference(image_id))\n",
        "    \n",
        "    image = dataset.load_image(image_id)\n",
        "    mask, class_ids = dataset.load_mask(image_id)\n",
        "    print('second',class_ids)\n",
        "    visualize.display_top_masks(image, mask,class_ids,dataset.class_names, limit=2) #limit of what?"
      ],
      "execution_count": null,
      "outputs": []
    },
    {
      "cell_type": "code",
      "metadata": {
        "id": "NYnl3oKM6zW-",
        "colab_type": "code",
        "colab": {}
      },
      "source": [
        "FOLD = 0\n",
        "N_FOLDS = 5\n",
        "\n",
        "kf = KFold(n_splits=N_FOLDS, random_state=42, shuffle=True)\n",
        "splits = kf.split(image_df) # ideally, this should be multilabel stratification\n",
        "\n",
        "def get_fold():    \n",
        "    for i, (train_index, valid_index) in enumerate(splits): #train_index and valid_index are arrays. iloc will return a df when multiple rows are passed/ returns a series object otherwise  \n",
        "        if i == FOLD:\n",
        "            return image_df.iloc[train_index], image_df.iloc[valid_index]\n",
        "        \n",
        "train_df, valid_df = get_fold()\n",
        "\n",
        "train_dataset = FashionDataset(train_df)\n",
        "train_dataset.prepare()\n",
        "\n",
        "valid_dataset = FashionDataset(valid_df)\n",
        "valid_dataset.prepare()"
      ],
      "execution_count": null,
      "outputs": []
    },
    {
      "cell_type": "code",
      "metadata": {
        "id": "bVLsiMTx7G75",
        "colab_type": "code",
        "colab": {}
      },
      "source": [
        "ngle list\n",
        "print(\"Total train images: \", len(train_df))\n",
        "print(\"Total train segments: \", len(train_segments)) #this len can be greater than no of train images since one image could have more than one class id associated\n",
        "\n",
        "plt.figure(figsize=(12, 3))\n",
        "values, counts = np.unique(train_segments, return_counts=True) #number of zeroes and ones\n",
        "plt.bar(values, counts)\n",
        "plt.xticks(values, label_names, rotation='vertical')\n",
        "plt.show()\n",
        "\n",
        "valid_segments = np.concatenate(valid_df['ClassId'].values).astype(int)\n",
        "print(\"Total train images: \", len(valid_df))\n",
        "print(\"Total validation segments: \", len(valid_segments))\n",
        "\n",
        "plt.figure(figsize=(12, 3))\n",
        "values, counts = np.unique(valid_segments, return_counts=True)\n",
        "plt.bar(values, counts)\n",
        "plt.xticks(values, label_names, rotation='vertical')\n",
        "plt.show()"
      ],
      "execution_count": null,
      "outputs": []
    },
    {
      "cell_type": "code",
      "metadata": {
        "id": "4auaHBfE7L1f",
        "colab_type": "code",
        "colab": {}
      },
      "source": [
        "LR = 1e-4\n",
        "EPOCHS = [2, 6, 8]\n",
        "\n",
        "import warnings \n",
        "warnings.filterwarnings(\"ignore\")"
      ],
      "execution_count": null,
      "outputs": []
    },
    {
      "cell_type": "code",
      "metadata": {
        "id": "N3S2eS2w7Lxw",
        "colab_type": "code",
        "colab": {}
      },
      "source": [
        "model = modellib.MaskRCNN(mode='training', config=config, model_dir=modeldir)\n",
        "\n",
        "model.load_weights(COCO_WEIGHTS_PATH, by_name=True, exclude=[\n",
        "    'mrcnn_class_logits', 'mrcnn_bbox_fc', 'mrcnn_bbox', 'mrcnn_mask'])"
      ],
      "execution_count": null,
      "outputs": []
    },
    {
      "cell_type": "code",
      "metadata": {
        "id": "YienxxqJ7Gy0",
        "colab_type": "code",
        "colab": {}
      },
      "source": [
        "augmentation = iaa.Sequential([\n",
        "    iaa.Fliplr(0.5) # only horizontal flip here\n",
        "])"
      ],
      "execution_count": null,
      "outputs": []
    },
    {
      "cell_type": "code",
      "metadata": {
        "id": "8V3xQRzF7W7C",
        "colab_type": "code",
        "colab": {}
      },
      "source": [
        "%%time\n",
        "model.train(train_dataset, valid_dataset,\n",
        "            learning_rate=LR*2, # train heads with higher lr to speedup learning\n",
        "            epochs=EPOCHS[0],\n",
        "            layers='heads',\n",
        "            augmentation=augmentation)\n",
        "\n",
        "history = model.keras_model.history.history"
      ],
      "execution_count": null,
      "outputs": []
    },
    {
      "cell_type": "code",
      "metadata": {
        "id": "IeR2SKLO7W4D",
        "colab_type": "code",
        "colab": {}
      },
      "source": [
        ""
      ],
      "execution_count": null,
      "outputs": []
    }
  ]
}